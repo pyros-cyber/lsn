{
 "cells": [
  {
   "cell_type": "markdown",
   "id": "945c7366",
   "metadata": {},
   "source": [
    "# Numerical exercises 10\n",
    "\n",
    "Before running this notebook you need to..."
   ]
  },
  {
   "cell_type": "code",
   "execution_count": 1,
   "id": "6c0e7d9a",
   "metadata": {},
   "outputs": [],
   "source": [
    "import matplotlib\n",
    "import matplotlib.pyplot as plt\n",
    "import numpy as np\n",
    "from mpl_toolkits.axes_grid1.inset_locator import inset_axes\n",
    "from mpl_toolkits.axes_grid1.inset_locator import mark_inset\n",
    "import matplotlib.style as style \n",
    "style.use('tableau-colorblind10')"
   ]
  },
  {
   "cell_type": "markdown",
   "id": "841c0066",
   "metadata": {},
   "source": [
    "In the following exercises we study the TSP again, at first using a _Simulated annealing_ algorithm, and then using parallelized genetic algorithm, and in both cases we will compare the results with the ones of the previous lecture.\n",
    "\n",
    "# Exercise 10.1\n",
    "## Brief overview of Simulated Annealing\n",
    "\n",
    "The Simulated Annealing (SA) algorithm comes from an analogy with thermodynamics: when a system is **slowly** (in order to avoid metastable states) cooled down, it reaches the energy minimum.\n",
    "\n",
    "The main result of this analogy is to consider the loss function $L_{1}(x)$ as the \"energy\" of the system, so that we define the following Boltzmann like probability distribution:\n",
    "\n",
    "$$\n",
    "p(x)= \\frac{e^{-\\beta L_{1}(x)}}{Z}, \\\\\n",
    "$$\n",
    "\n",
    "So, by increasing $\\beta$ we will slowly decrease the \"temperature\" of the system, and at each MC step we will sample the following distribution with a Metropolis algorithm:\n",
    "\n",
    "$$\n",
    "P= \\begin{cases}\n",
    "      e^{-\\beta (L_{1}(\\vec x') -L_{1}(\\vec x))}, & \\text{if } L_{1}(\\vec x') > L_{1}(\\vec x)  \\\\\n",
    "      1, & \\text{otherwise,}\n",
    "    \\end{cases}\n",
    "$$\n",
    "\n",
    "where each of $N$ total cycles will start from the previous final configuration."
   ]
  },
  {
   "cell_type": "markdown",
   "id": "10c20acf",
   "metadata": {},
   "source": [
    "# Exercise 10.2\n",
    "As previously mentioned, in this exercise we will use the [MPI library](https://www.mpi-forum.org/) to parallelize our genetic algorithm. \n",
    "\n",
    "Our model falls into the **Single Program Multiple Data (SPMD)** model, where the same executable is used to process different sets of data."
   ]
  }
 ],
 "metadata": {
  "kernelspec": {
   "display_name": "Python 3",
   "language": "python",
   "name": "python3"
  },
  "language_info": {
   "codemirror_mode": {
    "name": "ipython",
    "version": 3
   },
   "file_extension": ".py",
   "mimetype": "text/x-python",
   "name": "python",
   "nbconvert_exporter": "python",
   "pygments_lexer": "ipython3",
   "version": "3.9.4"
  }
 },
 "nbformat": 4,
 "nbformat_minor": 5
}
