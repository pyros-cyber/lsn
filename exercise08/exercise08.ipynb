{
 "cells": [
  {
   "cell_type": "markdown",
   "id": "ca3852f3",
   "metadata": {},
   "source": [
    "# Numerical Exercises 08"
   ]
  },
  {
   "cell_type": "markdown",
   "id": "cea9e7db",
   "metadata": {},
   "source": [
    "Before running this notebook, you need to..."
   ]
  },
  {
   "cell_type": "code",
   "execution_count": 1,
   "id": "abe6cf9c",
   "metadata": {},
   "outputs": [],
   "source": [
    "import numpy as np\n",
    "import matplotlib.pyplot as plt\n",
    "from mpl_toolkits.axes_grid1.inset_locator import zoomed_inset_axes    # zoomed up image libraries\n",
    "from mpl_toolkits.axes_grid1.inset_locator import mark_inset\n",
    "from scipy.integrate import quad\n",
    "import scipy.stats\n",
    "from scipy.optimize import curve_fit\n",
    "from scipy.optimize import minimize_scalar\n",
    "from mpl_toolkits.mplot3d import Axes3D\n",
    "import matplotlib.style as style \n",
    "style.use('tableau-colorblind10')"
   ]
  },
  {
   "cell_type": "markdown",
   "id": "f6ae7a7c",
   "metadata": {},
   "source": [
    "# Exercise 08.2\n",
    "## Variational Monte Carlo Methods (VMC)\n",
    "\n",
    "The goal of this exercise is to minimize the energy of the following Hamiltonian, representing a single quantum particle in 1D space: \n",
    "\n",
    "$$\n",
    "\\hat H = \\frac{\\hat p^2}{2m} + \\hat x^4 - \\frac{5}{2} \\hat x^2,\n",
    "$$\n",
    "\n",
    "exploiting the variational principle. As a matter of fact, the Schroedinger equation for such Hamiltonian (or more in general for a many-body hamiltonian) is not exactly solvable, and to get an estimate of the ground state energy we have to use the variational principal, which states that the variational energy $E_T$ for any wavefunction $\\psi_T$ will always be higher than the ground state energy:\n",
    "\n",
    "$$\n",
    "E_T = \\frac{\\langle \\psi_T | \\hat H | \\psi_T \\rangle}{\\langle \\psi_T| \\psi_T \\rangle} \\geq E_0 = \\frac{\\langle \\psi_0 | \\hat H | \\psi_0 \\rangle}{\\langle \\psi_0| \\psi_0 \\rangle}.\n",
    "$$\n",
    "\n",
    "To do so, we first choose an appropriate family of eigenfunctions: our choice is\n",
    "\n",
    "$$\n",
    "\\Psi_T^{\\sigma,\\mu}(x) \\propto e^{-\\frac{(x-\\mu)^2}{2\\sigma^2}}+\n",
    "                               e^{-\\frac{(x+\\mu)^2}{2\\sigma^2}},\n",
    "$$\n",
    "\n",
    "which has the same parity as the Hamiltonian potential, and $\\mu$ and $\\sigma$ are the variational parameters to optimize. Then the $E_{GS}$ will be approximated by: \n",
    "\n",
    "$$\n",
    "\\langle {\\hat H} \\rangle_T =  \n",
    "\\int dx \\frac{|\\Psi_T(x)|^2}{\\int dx |\\Psi_T(x)|^2} \\frac{{\\hat H} \\Psi_T(x)}{\\Psi_T(x)} =\n",
    "\\int dx p(x) E_{loc}(x).\n",
    "$$\n",
    "\n",
    "The algorithm is:\n",
    "\n",
    "1. Choose start value for $\\mu$ and $\\sigma$\n",
    "2. **Metropolis algo** to generate $x$ points distributed as $p(x)$\n",
    "3. use these points to compute a **MC** integration over $E_{loc}$ with blocking method to find uncertainties; it's worth noticing that the computation of $E_{GS}$ is exact, because its uncertainty is within the statistical uncertainty of the Monte Carlo calculation. Our estimate  will be given by:\n",
    "\n",
    "$$\n",
    "\\langle\\hat{H}\\rangle_T=\\frac{1}{M} \\sum_{i=1}^M E_\\text{loc}(x_i),\n",
    "$$\n",
    "\n",
    "   where $M$ is the number of sampled points.\n",
    "\n",
    "4. Tuning $\\mu$ and $\\sigma$, and repeat from 2., until a best estimation of $E_{GS}$ is reached\n"
   ]
  }
 ],
 "metadata": {
  "kernelspec": {
   "display_name": "Python 3",
   "language": "python",
   "name": "python3"
  },
  "language_info": {
   "codemirror_mode": {
    "name": "ipython",
    "version": 3
   },
   "file_extension": ".py",
   "mimetype": "text/x-python",
   "name": "python",
   "nbconvert_exporter": "python",
   "pygments_lexer": "ipython3",
   "version": "3.9.4"
  }
 },
 "nbformat": 4,
 "nbformat_minor": 5
}
