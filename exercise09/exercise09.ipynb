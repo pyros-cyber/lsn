{
 "cells": [
  {
   "cell_type": "markdown",
   "id": "b3010795",
   "metadata": {},
   "source": [
    "# Numerical exercises 9"
   ]
  },
  {
   "cell_type": "markdown",
   "id": "83ae5de4",
   "metadata": {},
   "source": [
    "Before running this notebook you need to..."
   ]
  },
  {
   "cell_type": "code",
   "execution_count": 1,
   "id": "cc3c805c",
   "metadata": {},
   "outputs": [],
   "source": [
    "import matplotlib\n",
    "import matplotlib.pyplot as plt\n",
    "import numpy as np\n",
    "import matplotlib.style as style \n",
    "style.use('tableau-colorblind10')"
   ]
  },
  {
   "cell_type": "markdown",
   "id": "2470cb66",
   "metadata": {},
   "source": [
    "# Exercise 09.1\n",
    "## The Travelling Salesman Problem\n",
    "The travelling salesmen problem (TSP) consists of a salesman that must visit each city only one time and at the end go back to the first city, in the shortest path possible. So, given a cost of travel between cities (different paths can have different costs), the shortest path is the one that minimizes the total distance of his tour. \n",
    "\n",
    "Formally, we have a salesman, a set of $N$ cities at positions $c_{i}$; the search space for such problem is the permutation of such $N$ cities, and so the total number of possible solutions is $N!$.\n",
    "\n",
    "For each permutation one has to calculate the loss function\n",
    "\n",
    "$$\n",
    "L^{(1)}(\\vec{x}_1, \\vec{x}_2, \\dots, \\vec{x}_N) = \\sum_{i=1}^{N} |\\vec{x}_i-\\vec{x}_{i+1}|,\n",
    "$$\n",
    "\n",
    "(where $\\vec{x}_{N+1} = \\vec{x}_{1}$, the salesman has to finish where he started), and $\\vec{x}_1, \\vec{x}_2, \\dots, \\vec{x}_N$ is particular permutation, i.e.:\n",
    "\n",
    "$$\n",
    "\\vec{x}_1, \\vec{x}_2, \\dots, \\vec{x}_N = \\vec{c}_{P1}, \\vec{c}_{P2}, \\dots, \\vec{c}_{PN}.\n",
    "$$\n",
    "\n",
    "Such problem belongs to the family of [NP-hard problem](https://en.wikipedia.org/wiki/NP-hardness), and to resolve it we use a genetic algorithm.\n",
    "\n",
    "## Brief overview of Genetic Algoritms (GAs)\n",
    "\n",
    "Genetic algorithms are inspired by the natural evolution processes, and are the results of \"traslittering\" such processes (for instance _survival of the fittest_) as computational tools. The pseudocode of a generic GA could be:\n",
    "\n",
    "<p style=\"border:2px; border-style:solid; border-color:#F5F5F5; padding: 1em; background-color:#F5F5F5\">\n",
    "<font face=\"Courier\">START</font><br />\n",
    "<font face=\"Courier\">Generate the initial population</font><br />\n",
    "<font face=\"Courier\">Compute fitness</font><br />\n",
    "<font face=\"Courier\">REPEAT:</font><br />\n",
    "<font face=\"Courier\">---Selection</font><br />\n",
    "<font face=\"Courier\">---Crossover</font><br />\n",
    "<font face=\"Courier\">---Mutations</font><br />\n",
    "<font face=\"Courier\">---Compute fitness</font><br />\n",
    "<font face=\"Courier\">UNTIL population has converged</font><br />\n",
    "<font face=\"Courier\">STOP</font>\n",
    "</p>"
   ]
  }
 ],
 "metadata": {
  "kernelspec": {
   "display_name": "Python 3",
   "language": "python",
   "name": "python3"
  },
  "language_info": {
   "codemirror_mode": {
    "name": "ipython",
    "version": 3
   },
   "file_extension": ".py",
   "mimetype": "text/x-python",
   "name": "python",
   "nbconvert_exporter": "python",
   "pygments_lexer": "ipython3",
   "version": "3.9.4"
  }
 },
 "nbformat": 4,
 "nbformat_minor": 5
}
